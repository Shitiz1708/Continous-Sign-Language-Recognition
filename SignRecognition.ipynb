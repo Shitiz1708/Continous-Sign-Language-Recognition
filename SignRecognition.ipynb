{
  "nbformat": 4,
  "nbformat_minor": 0,
  "metadata": {
    "colab": {
      "name": "SignRecognition.ipynb",
      "provenance": []
    },
    "kernelspec": {
      "name": "python3",
      "display_name": "Python 3"
    },
    "accelerator": "GPU"
  },
  "cells": [
    {
      "cell_type": "code",
      "metadata": {
        "id": "gr9HlWKiEBRB",
        "colab_type": "code",
        "outputId": "6199f505-0b08-47fa-d632-4a90cc36fe3d",
        "colab": {
          "base_uri": "https://localhost:8080/",
          "height": 153
        }
      },
      "source": [
        "!pip install -U keras"
      ],
      "execution_count": 0,
      "outputs": [
        {
          "output_type": "stream",
          "text": [
            "Requirement already up-to-date: keras in /usr/local/lib/python3.6/dist-packages (2.3.1)\n",
            "Requirement already satisfied, skipping upgrade: numpy>=1.9.1 in /usr/local/lib/python3.6/dist-packages (from keras) (1.18.3)\n",
            "Requirement already satisfied, skipping upgrade: h5py in /usr/local/lib/python3.6/dist-packages (from keras) (2.10.0)\n",
            "Requirement already satisfied, skipping upgrade: keras-applications>=1.0.6 in /usr/local/lib/python3.6/dist-packages (from keras) (1.0.8)\n",
            "Requirement already satisfied, skipping upgrade: pyyaml in /usr/local/lib/python3.6/dist-packages (from keras) (3.13)\n",
            "Requirement already satisfied, skipping upgrade: six>=1.9.0 in /usr/local/lib/python3.6/dist-packages (from keras) (1.12.0)\n",
            "Requirement already satisfied, skipping upgrade: scipy>=0.14 in /usr/local/lib/python3.6/dist-packages (from keras) (1.4.1)\n",
            "Requirement already satisfied, skipping upgrade: keras-preprocessing>=1.0.5 in /usr/local/lib/python3.6/dist-packages (from keras) (1.1.0)\n"
          ],
          "name": "stdout"
        }
      ]
    },
    {
      "cell_type": "code",
      "metadata": {
        "id": "TIuGESrLDWKO",
        "colab_type": "code",
        "outputId": "f51ce5cf-5c8b-416d-f978-26623cc36920",
        "colab": {
          "base_uri": "https://localhost:8080/",
          "height": 360
        }
      },
      "source": [
        "!pip install git+https://github.com/JihongJu/keras-resnet3d.git"
      ],
      "execution_count": 0,
      "outputs": [
        {
          "output_type": "stream",
          "text": [
            "Collecting git+https://github.com/JihongJu/keras-resnet3d.git\n",
            "  Cloning https://github.com/JihongJu/keras-resnet3d.git to /tmp/pip-req-build-nb9xuk46\n",
            "  Running command git clone -q https://github.com/JihongJu/keras-resnet3d.git /tmp/pip-req-build-nb9xuk46\n",
            "  Running command git submodule update --init --recursive -q\n",
            "Requirement already satisfied: keras>=2.0.0 in /usr/local/lib/python3.6/dist-packages (from keras-resnet3d==0.0.1) (2.3.1)\n",
            "Requirement already satisfied: keras-preprocessing>=1.0.5 in /usr/local/lib/python3.6/dist-packages (from keras>=2.0.0->keras-resnet3d==0.0.1) (1.1.0)\n",
            "Requirement already satisfied: h5py in /usr/local/lib/python3.6/dist-packages (from keras>=2.0.0->keras-resnet3d==0.0.1) (2.10.0)\n",
            "Requirement already satisfied: scipy>=0.14 in /usr/local/lib/python3.6/dist-packages (from keras>=2.0.0->keras-resnet3d==0.0.1) (1.4.1)\n",
            "Requirement already satisfied: pyyaml in /usr/local/lib/python3.6/dist-packages (from keras>=2.0.0->keras-resnet3d==0.0.1) (3.13)\n",
            "Requirement already satisfied: keras-applications>=1.0.6 in /usr/local/lib/python3.6/dist-packages (from keras>=2.0.0->keras-resnet3d==0.0.1) (1.0.8)\n",
            "Requirement already satisfied: six>=1.9.0 in /usr/local/lib/python3.6/dist-packages (from keras>=2.0.0->keras-resnet3d==0.0.1) (1.12.0)\n",
            "Requirement already satisfied: numpy>=1.9.1 in /usr/local/lib/python3.6/dist-packages (from keras>=2.0.0->keras-resnet3d==0.0.1) (1.18.3)\n",
            "Building wheels for collected packages: keras-resnet3d\n",
            "  Building wheel for keras-resnet3d (setup.py) ... \u001b[?25l\u001b[?25hdone\n",
            "  Created wheel for keras-resnet3d: filename=keras_resnet3d-0.0.1-cp36-none-any.whl size=4773 sha256=0f727f975a6a17885dc488b03949afd382eed1617e4dba19e14839831f18984f\n",
            "  Stored in directory: /tmp/pip-ephem-wheel-cache-3ddt6qmy/wheels/98/fa/00/0dfe23f54c8f40a14c53f355effb4b198f7727d6d7f05be8b1\n",
            "Successfully built keras-resnet3d\n",
            "Installing collected packages: keras-resnet3d\n",
            "Successfully installed keras-resnet3d-0.0.1\n"
          ],
          "name": "stdout"
        }
      ]
    },
    {
      "cell_type": "code",
      "metadata": {
        "id": "OlGq3hV8vAaN",
        "colab_type": "code",
        "outputId": "1a7d7a92-0fb2-4065-e41b-8766c00d6e9f",
        "colab": {
          "base_uri": "https://localhost:8080/",
          "height": 122
        }
      },
      "source": [
        "from google.colab import drive\n",
        "drive.mount('/content/drive')"
      ],
      "execution_count": 0,
      "outputs": [
        {
          "output_type": "stream",
          "text": [
            "Go to this URL in a browser: https://accounts.google.com/o/oauth2/auth?client_id=947318989803-6bn6qk8qdgf4n4g3pfee6491hc0brc4i.apps.googleusercontent.com&redirect_uri=urn%3aietf%3awg%3aoauth%3a2.0%3aoob&response_type=code&scope=email%20https%3a%2f%2fwww.googleapis.com%2fauth%2fdocs.test%20https%3a%2f%2fwww.googleapis.com%2fauth%2fdrive%20https%3a%2f%2fwww.googleapis.com%2fauth%2fdrive.photos.readonly%20https%3a%2f%2fwww.googleapis.com%2fauth%2fpeopleapi.readonly\n",
            "\n",
            "Enter your authorization code:\n",
            "··········\n",
            "Mounted at /content/drive\n"
          ],
          "name": "stdout"
        }
      ]
    },
    {
      "cell_type": "code",
      "metadata": {
        "id": "Vh8LhP8_DuNU",
        "colab_type": "code",
        "outputId": "9d463228-1a7f-4542-f08f-3b5444194d9b",
        "colab": {
          "base_uri": "https://localhost:8080/",
          "height": 34
        }
      },
      "source": [
        "import numpy as np\n",
        "import pandas as pd\n",
        "import matplotlib.pyplot as plt\n",
        "import cv2\n",
        "import keras\n",
        "from keras.layers import Dense,Conv2D,LSTM,Bidirectional,TimeDistributed,Input,RepeatVector\n",
        "from keras.models import Model\n",
        "from keras.optimizers import RMSprop"
      ],
      "execution_count": 0,
      "outputs": [
        {
          "output_type": "stream",
          "text": [
            "Using TensorFlow backend.\n"
          ],
          "name": "stderr"
        }
      ]
    },
    {
      "cell_type": "code",
      "metadata": {
        "id": "DxjNxN3AbuYh",
        "colab_type": "code",
        "outputId": "6590526a-81de-4393-b8d6-6af3e8cef665",
        "colab": {
          "base_uri": "https://localhost:8080/",
          "height": 51
        }
      },
      "source": [
        "#Importing the Data \n",
        "X_train = np.load('/content/drive/My Drive/Sign Language Recognition/X_train.npy')\n",
        "y_train = np.load('/content/drive/My Drive/Sign Language Recognition/y_train.npy')\n",
        "print(X_train.shape)\n",
        "print(y_train.shape)"
      ],
      "execution_count": 0,
      "outputs": [
        {
          "output_type": "stream",
          "text": [
            "(38, 24, 8, 224, 224, 3)\n",
            "(38, 28)\n"
          ],
          "name": "stdout"
        }
      ]
    },
    {
      "cell_type": "code",
      "metadata": {
        "id": "eaUbK7Mdw_TU",
        "colab_type": "code",
        "colab": {}
      },
      "source": [
        "input_shape = (38,24,8,224,224,3)\n",
        "out_timesteps = 28\n",
        "out_vocab = 1232"
      ],
      "execution_count": 0,
      "outputs": []
    },
    {
      "cell_type": "code",
      "metadata": {
        "id": "aFilYd9nDe_j",
        "colab_type": "code",
        "colab": {}
      },
      "source": [
        "# Defining the resnet3d model\n",
        "from resnet3d import Resnet3DBuilder\n",
        "resnet3dmodel = Resnet3DBuilder.build_resnet_18((input_shape[2], input_shape[3], input_shape[4], input_shape[5]), 0)\n",
        "# layer_names = [layer.name for layer in model.layers]\n",
        "last_layer = resnet3dmodel.layers[-2]\n",
        "base_model = Model(inputs = resnet3dmodel.input, outputs=last_layer.output)"
      ],
      "execution_count": 0,
      "outputs": []
    },
    {
      "cell_type": "code",
      "metadata": {
        "id": "qYmHiuK4TypX",
        "colab_type": "code",
        "outputId": "3bd551a8-d058-4241-96cd-f6b358f5bba9",
        "colab": {
          "base_uri": "https://localhost:8080/",
          "height": 34
        }
      },
      "source": [
        "# Defining the main model\n",
        "\n",
        "#Input layer\n",
        "input_tensor = Input(shape=(input_shape[1],input_shape[2],input_shape[3],input_shape[4],input_shape[5]))\n",
        "\n",
        "#Feature Extractor\n",
        "resnet = TimeDistributed(base_model)(input_tensor)\n",
        "\n",
        "#Encoder\n",
        "bidirectional_lstm_1 = Bidirectional(LSTM(1024))(resnet)\n",
        "\n",
        "#Decoder\n",
        "repeatVector = RepeatVector(out_timesteps)(bidirectional_lstm_1)\n",
        "lstm_1 = LSTM(1024, return_sequences=True)(repeatVector)\n",
        "\n",
        "#Output Dense layer\n",
        "output_tensor = Dense(out_vocab, activation='softmax')(lstm_1)\n",
        "print(output_tensor)\n",
        "\n",
        "model = Model(inputs=input_tensor,outputs=output_tensor)"
      ],
      "execution_count": 0,
      "outputs": [
        {
          "output_type": "stream",
          "text": [
            "Tensor(\"dense_2/truediv:0\", shape=(None, 28, 1232), dtype=float32)\n"
          ],
          "name": "stdout"
        }
      ]
    },
    {
      "cell_type": "code",
      "metadata": {
        "id": "MOqZa5D4wDsE",
        "colab_type": "code",
        "colab": {}
      },
      "source": [
        "#Model compilation\n",
        "rms = RMSprop(lr=0.001)\n",
        "model.compile(optimizer=rms, loss='sparse_categorical_crossentropy',metrics=['accuracy'])"
      ],
      "execution_count": 0,
      "outputs": []
    },
    {
      "cell_type": "code",
      "metadata": {
        "id": "vXcEuL77TR8C",
        "colab_type": "code",
        "outputId": "2245b5bc-3725-4beb-97a8-85d01b7929b6",
        "colab": {
          "base_uri": "https://localhost:8080/",
          "height": 1000
        }
      },
      "source": [
        "# filename = 'model.h1.6_april_20'\n",
        "# checkpoint = ModelCheckpoint(filename, monitor='val_loss', verbose=1, save_best_only=True, mode='min')\n",
        "\n",
        "# train model\n",
        "history = model.fit(X_train, y_train.reshape(y_train.shape[0], y_train.shape[1], 1),\n",
        "                    epochs=30, batch_size=2, validation_split = 0.2, \n",
        "                    verbose=1,shuffle=True)"
      ],
      "execution_count": 0,
      "outputs": [
        {
          "output_type": "stream",
          "text": [
            "Train on 30 samples, validate on 8 samples\n",
            "Epoch 1/30\n",
            "30/30 [==============================] - 69s 2s/step - loss: 4.7459 - accuracy: 0.5321 - val_loss: 4.0064 - val_accuracy: 0.5223\n",
            "Epoch 2/30\n",
            "30/30 [==============================] - 55s 2s/step - loss: 3.1683 - accuracy: 0.5750 - val_loss: 3.5090 - val_accuracy: 0.5223\n",
            "Epoch 3/30\n",
            "30/30 [==============================] - 55s 2s/step - loss: 2.9547 - accuracy: 0.5798 - val_loss: 3.5350 - val_accuracy: 0.5312\n",
            "Epoch 4/30\n",
            "30/30 [==============================] - 55s 2s/step - loss: 2.7319 - accuracy: 0.5821 - val_loss: 3.5303 - val_accuracy: 0.5312\n",
            "Epoch 5/30\n",
            "30/30 [==============================] - 55s 2s/step - loss: 2.6044 - accuracy: 0.5821 - val_loss: 3.4279 - val_accuracy: 0.5312\n",
            "Epoch 6/30\n",
            "30/30 [==============================] - 55s 2s/step - loss: 2.5729 - accuracy: 0.5821 - val_loss: 3.4916 - val_accuracy: 0.5312\n",
            "Epoch 7/30\n",
            "30/30 [==============================] - 55s 2s/step - loss: 2.4283 - accuracy: 0.5833 - val_loss: 3.7922 - val_accuracy: 0.5357\n",
            "Epoch 8/30\n",
            "30/30 [==============================] - 55s 2s/step - loss: 2.4570 - accuracy: 0.5845 - val_loss: 3.5452 - val_accuracy: 0.5312\n",
            "Epoch 9/30\n",
            "30/30 [==============================] - 55s 2s/step - loss: 2.4295 - accuracy: 0.5821 - val_loss: 3.6767 - val_accuracy: 0.5312\n",
            "Epoch 10/30\n",
            "30/30 [==============================] - 55s 2s/step - loss: 2.3540 - accuracy: 0.5845 - val_loss: 3.9638 - val_accuracy: 0.5402\n",
            "Epoch 11/30\n",
            "30/30 [==============================] - 55s 2s/step - loss: 2.2113 - accuracy: 0.5869 - val_loss: 4.0571 - val_accuracy: 0.5312\n",
            "Epoch 12/30\n",
            "30/30 [==============================] - 55s 2s/step - loss: 2.4382 - accuracy: 0.5762 - val_loss: 3.8923 - val_accuracy: 0.5312\n",
            "Epoch 13/30\n",
            "30/30 [==============================] - 55s 2s/step - loss: 2.2061 - accuracy: 0.5857 - val_loss: 3.8420 - val_accuracy: 0.5357\n",
            "Epoch 14/30\n",
            "30/30 [==============================] - 55s 2s/step - loss: 2.2215 - accuracy: 0.5917 - val_loss: 3.9077 - val_accuracy: 0.5312\n",
            "Epoch 15/30\n",
            "30/30 [==============================] - 55s 2s/step - loss: 2.1644 - accuracy: 0.5905 - val_loss: 3.9476 - val_accuracy: 0.5357\n",
            "Epoch 16/30\n",
            "30/30 [==============================] - 55s 2s/step - loss: 2.1425 - accuracy: 0.5857 - val_loss: 3.9844 - val_accuracy: 0.5357\n",
            "Epoch 17/30\n",
            "30/30 [==============================] - 55s 2s/step - loss: 2.1793 - accuracy: 0.5845 - val_loss: 4.1781 - val_accuracy: 0.5357\n",
            "Epoch 18/30\n",
            "30/30 [==============================] - 55s 2s/step - loss: 2.1455 - accuracy: 0.5881 - val_loss: 4.2250 - val_accuracy: 0.5357\n",
            "Epoch 19/30\n",
            "30/30 [==============================] - 55s 2s/step - loss: 2.1390 - accuracy: 0.5857 - val_loss: 4.0599 - val_accuracy: 0.5357\n",
            "Epoch 20/30\n",
            "30/30 [==============================] - 55s 2s/step - loss: 2.1608 - accuracy: 0.5857 - val_loss: 4.2769 - val_accuracy: 0.5402\n",
            "Epoch 21/30\n",
            "30/30 [==============================] - 55s 2s/step - loss: 2.0833 - accuracy: 0.5857 - val_loss: 4.2025 - val_accuracy: 0.5357\n",
            "Epoch 22/30\n",
            "30/30 [==============================] - 55s 2s/step - loss: 2.0193 - accuracy: 0.5821 - val_loss: 4.6259 - val_accuracy: 0.5312\n",
            "Epoch 23/30\n",
            "30/30 [==============================] - 55s 2s/step - loss: 2.1239 - accuracy: 0.5810 - val_loss: 4.2218 - val_accuracy: 0.5312\n",
            "Epoch 24/30\n",
            "30/30 [==============================] - 55s 2s/step - loss: 1.9661 - accuracy: 0.5869 - val_loss: 4.6982 - val_accuracy: 0.5268\n",
            "Epoch 25/30\n",
            "30/30 [==============================] - 55s 2s/step - loss: 2.0006 - accuracy: 0.5798 - val_loss: 4.2149 - val_accuracy: 0.5357\n",
            "Epoch 26/30\n",
            "30/30 [==============================] - 55s 2s/step - loss: 2.0332 - accuracy: 0.5750 - val_loss: 4.3061 - val_accuracy: 0.5312\n",
            "Epoch 27/30\n",
            "30/30 [==============================] - 55s 2s/step - loss: 2.0068 - accuracy: 0.5857 - val_loss: 4.3439 - val_accuracy: 0.5357\n",
            "Epoch 28/30\n",
            "30/30 [==============================] - 55s 2s/step - loss: 2.0339 - accuracy: 0.5821 - val_loss: 4.3471 - val_accuracy: 0.5357\n",
            "Epoch 29/30\n",
            "30/30 [==============================] - 55s 2s/step - loss: 1.9407 - accuracy: 0.5869 - val_loss: 4.4508 - val_accuracy: 0.5402\n",
            "Epoch 30/30\n",
            "30/30 [==============================] - 55s 2s/step - loss: 1.8428 - accuracy: 0.5893 - val_loss: 4.4589 - val_accuracy: 0.5357\n"
          ],
          "name": "stdout"
        }
      ]
    },
    {
      "cell_type": "code",
      "metadata": {
        "id": "u5MtMJtDf5iO",
        "colab_type": "code",
        "colab": {}
      },
      "source": [
        ""
      ],
      "execution_count": 0,
      "outputs": []
    }
  ]
}