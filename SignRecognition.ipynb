{
  "nbformat": 4,
  "nbformat_minor": 0,
  "metadata": {
    "colab": {
      "name": "SignRecognition.ipynb",
      "provenance": [],
      "collapsed_sections": []
    },
    "kernelspec": {
      "name": "python3",
      "display_name": "Python 3"
    },
    "accelerator": "GPU"
  },
  "cells": [
    {
      "cell_type": "code",
      "metadata": {
        "id": "gr9HlWKiEBRB",
        "colab_type": "code",
        "colab": {}
      },
      "source": [
        "!pip install -U keras"
      ],
      "execution_count": 0,
      "outputs": []
    },
    {
      "cell_type": "code",
      "metadata": {
        "id": "TIuGESrLDWKO",
        "colab_type": "code",
        "colab": {}
      },
      "source": [
        "!pip install git+https://github.com/JihongJu/keras-resnet3d.git"
      ],
      "execution_count": 0,
      "outputs": []
    },
    {
      "cell_type": "code",
      "metadata": {
        "id": "OlGq3hV8vAaN",
        "colab_type": "code",
        "colab": {}
      },
      "source": [
        "from google.colab import drive\n",
        "drive.mount('/content/drive')"
      ],
      "execution_count": 0,
      "outputs": []
    },
    {
      "cell_type": "code",
      "metadata": {
        "id": "Vh8LhP8_DuNU",
        "colab_type": "code",
        "colab": {}
      },
      "source": [
        "import numpy as np\n",
        "import pandas as pd\n",
        "import matplotlib.pyplot as plt\n",
        "import cv2\n",
        "import keras\n",
        "from keras.layers import Dense,Conv2D,LSTM,Bidirectional,TimeDistributed,Input,RepeatVector\n",
        "from keras.models import Model\n",
        "from keras.optimizers import RMSprop"
      ],
      "execution_count": 0,
      "outputs": []
    },
    {
      "cell_type": "code",
      "metadata": {
        "id": "DxjNxN3AbuYh",
        "colab_type": "code",
        "colab": {}
      },
      "source": [
        "#Importing the Data \n",
        "X_train = np.load('/content/drive/My Drive/Sign Language Recognition/X_train.npy')\n",
        "y_train = np.load('/content/drive/My Drive/Sign Language Recognition/y_train.npy')\n",
        "print(X_train.shape)\n",
        "print(y_train.shape)"
      ],
      "execution_count": 0,
      "outputs": []
    },
    {
      "cell_type": "code",
      "metadata": {
        "id": "eaUbK7Mdw_TU",
        "colab_type": "code",
        "colab": {}
      },
      "source": [
        "input_shape = (38,24,8,224,224,3)\n",
        "out_timesteps = 28\n",
        "out_vocab = 1232"
      ],
      "execution_count": 0,
      "outputs": []
    },
    {
      "cell_type": "code",
      "metadata": {
        "id": "aFilYd9nDe_j",
        "colab_type": "code",
        "colab": {}
      },
      "source": [
        "# Defining the resnet3d model\n",
        "from resnet3d import Resnet3DBuilder\n",
        "resnet3dmodel = Resnet3DBuilder.build_resnet_18((input_shape[2], input_shape[3], input_shape[4], input_shape[5]), 0)\n",
        "# layer_names = [layer.name for layer in model.layers]\n",
        "last_layer = resnet3dmodel.layers[-2]\n",
        "base_model = Model(inputs = resnet3dmodel.input, outputs=last_layer.output)"
      ],
      "execution_count": 0,
      "outputs": []
    },
    {
      "cell_type": "code",
      "metadata": {
        "id": "qYmHiuK4TypX",
        "colab_type": "code",
        "colab": {}
      },
      "source": [
        "# Defining the main model\n",
        "\n",
        "#Input layer\n",
        "input_tensor = Input(shape=(input_shape[1],input_shape[2],input_shape[3],input_shape[4],input_shape[5]))\n",
        "\n",
        "#Feature Extractor\n",
        "resnet = TimeDistributed(base_model)(input_tensor)\n",
        "\n",
        "#Encoder\n",
        "bidirectional_lstm_1 = Bidirectional(LSTM(1024))(resnet)\n",
        "\n",
        "#Decoder\n",
        "repeatVector = RepeatVector(out_timesteps)(bidirectional_lstm_1)\n",
        "lstm_1 = LSTM(1024, return_sequences=True)(repeatVector)\n",
        "\n",
        "#Output Dense layer\n",
        "output_tensor = Dense(out_vocab, activation='softmax')(lstm_1)\n",
        "print(output_tensor)\n",
        "\n",
        "model = Model(inputs=input_tensor,outputs=output_tensor)"
      ],
      "execution_count": 0,
      "outputs": []
    },
    {
      "cell_type": "code",
      "metadata": {
        "id": "MOqZa5D4wDsE",
        "colab_type": "code",
        "colab": {}
      },
      "source": [
        "#Model compilation\n",
        "rms = RMSprop(lr=0.001)\n",
        "model.compile(optimizer=rms, loss='sparse_categorical_crossentropy',metrics=['accuracy'])"
      ],
      "execution_count": 0,
      "outputs": []
    },
    {
      "cell_type": "code",
      "metadata": {
        "id": "vXcEuL77TR8C",
        "colab_type": "code",
        "colab": {}
      },
      "source": [
        "# filename = 'model.h1.6_april_20'\n",
        "# checkpoint = ModelCheckpoint(filename, monitor='val_loss', verbose=1, save_best_only=True, mode='min')\n",
        "\n",
        "# train model\n",
        "history = model.fit(X_train, y_train.reshape(y_train.shape[0], y_train.shape[1], 1),\n",
        "                    epochs=30, batch_size=2, validation_split = 0.2, \n",
        "                    verbose=1,shuffle=True)"
      ],
      "execution_count": 0,
      "outputs": []
    },
    {
      "cell_type": "code",
      "metadata": {
        "id": "u5MtMJtDf5iO",
        "colab_type": "code",
        "colab": {}
      },
      "source": [
        ""
      ],
      "execution_count": 0,
      "outputs": []
    }
  ]
}
