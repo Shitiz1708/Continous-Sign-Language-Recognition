{
  "nbformat": 4,
  "nbformat_minor": 0,
  "metadata": {
    "colab": {
      "name": "SignRecognition.ipynb",
      "provenance": [],
      "collapsed_sections": []
    },
    "kernelspec": {
      "name": "python3",
      "display_name": "Python 3"
    },
    "accelerator": "GPU"
  },
  "cells": [
    {
      "cell_type": "code",
      "metadata": {
        "id": "TIuGESrLDWKO",
        "colab_type": "code",
        "colab": {
          "base_uri": "https://localhost:8080/",
          "height": 411
        },
        "outputId": "44d64156-7a41-4f20-b13a-7c11ac32b086"
      },
      "source": [
        "# !pip install -U keras\n",
        "!pip install git+https://github.com/JihongJu/keras-resnet3d.git\n",
        "!pip install jiwer"
      ],
      "execution_count": null,
      "outputs": [
        {
          "output_type": "stream",
          "text": [
            "Collecting git+https://github.com/JihongJu/keras-resnet3d.git\n",
            "  Cloning https://github.com/JihongJu/keras-resnet3d.git to /tmp/pip-req-build-357vc0pi\n",
            "  Running command git clone -q https://github.com/JihongJu/keras-resnet3d.git /tmp/pip-req-build-357vc0pi\n",
            "  Running command git submodule update --init --recursive -q\n",
            "Requirement already satisfied (use --upgrade to upgrade): keras-resnet3d==0.0.1 from git+https://github.com/JihongJu/keras-resnet3d.git in /usr/local/lib/python3.6/dist-packages\n",
            "Requirement already satisfied: keras>=2.0.0 in /usr/local/lib/python3.6/dist-packages (from keras-resnet3d==0.0.1) (2.3.1)\n",
            "Requirement already satisfied: numpy>=1.9.1 in /usr/local/lib/python3.6/dist-packages (from keras>=2.0.0->keras-resnet3d==0.0.1) (1.18.5)\n",
            "Requirement already satisfied: h5py in /usr/local/lib/python3.6/dist-packages (from keras>=2.0.0->keras-resnet3d==0.0.1) (2.10.0)\n",
            "Requirement already satisfied: pyyaml in /usr/local/lib/python3.6/dist-packages (from keras>=2.0.0->keras-resnet3d==0.0.1) (3.13)\n",
            "Requirement already satisfied: six>=1.9.0 in /usr/local/lib/python3.6/dist-packages (from keras>=2.0.0->keras-resnet3d==0.0.1) (1.12.0)\n",
            "Requirement already satisfied: scipy>=0.14 in /usr/local/lib/python3.6/dist-packages (from keras>=2.0.0->keras-resnet3d==0.0.1) (1.4.1)\n",
            "Requirement already satisfied: keras-applications>=1.0.6 in /usr/local/lib/python3.6/dist-packages (from keras>=2.0.0->keras-resnet3d==0.0.1) (1.0.8)\n",
            "Requirement already satisfied: keras-preprocessing>=1.0.5 in /usr/local/lib/python3.6/dist-packages (from keras>=2.0.0->keras-resnet3d==0.0.1) (1.1.2)\n",
            "Building wheels for collected packages: keras-resnet3d\n",
            "  Building wheel for keras-resnet3d (setup.py) ... \u001b[?25l\u001b[?25hdone\n",
            "  Created wheel for keras-resnet3d: filename=keras_resnet3d-0.0.1-cp36-none-any.whl size=4773 sha256=2d933b275083700614b9c60d7492aecc53593e1a834072b7bd02965897e55c93\n",
            "  Stored in directory: /tmp/pip-ephem-wheel-cache-sk50myak/wheels/98/fa/00/0dfe23f54c8f40a14c53f355effb4b198f7727d6d7f05be8b1\n",
            "Successfully built keras-resnet3d\n",
            "Requirement already satisfied: jiwer in /usr/local/lib/python3.6/dist-packages (2.1.0)\n",
            "Requirement already satisfied: python-Levenshtein in /usr/local/lib/python3.6/dist-packages (from jiwer) (0.12.0)\n",
            "Requirement already satisfied: numpy in /usr/local/lib/python3.6/dist-packages (from jiwer) (1.18.5)\n",
            "Requirement already satisfied: setuptools in /usr/local/lib/python3.6/dist-packages (from python-Levenshtein->jiwer) (47.3.1)\n"
          ],
          "name": "stdout"
        }
      ]
    },
    {
      "cell_type": "code",
      "metadata": {
        "id": "OlGq3hV8vAaN",
        "colab_type": "code",
        "colab": {
          "base_uri": "https://localhost:8080/",
          "height": 122
        },
        "outputId": "286c3691-b09a-4e8b-da3d-b9890e995580"
      },
      "source": [
        "from google.colab import drive\n",
        "drive.mount('/content/drive',force_remount=True)"
      ],
      "execution_count": null,
      "outputs": [
        {
          "output_type": "stream",
          "text": [
            "Go to this URL in a browser: https://accounts.google.com/o/oauth2/auth?client_id=947318989803-6bn6qk8qdgf4n4g3pfee6491hc0brc4i.apps.googleusercontent.com&redirect_uri=urn%3aietf%3awg%3aoauth%3a2.0%3aoob&response_type=code&scope=email%20https%3a%2f%2fwww.googleapis.com%2fauth%2fdocs.test%20https%3a%2f%2fwww.googleapis.com%2fauth%2fdrive%20https%3a%2f%2fwww.googleapis.com%2fauth%2fdrive.photos.readonly%20https%3a%2f%2fwww.googleapis.com%2fauth%2fpeopleapi.readonly\n",
            "\n",
            "Enter your authorization code:\n",
            "··········\n",
            "Mounted at /content/drive\n"
          ],
          "name": "stdout"
        }
      ]
    },
    {
      "cell_type": "code",
      "metadata": {
        "id": "Vh8LhP8_DuNU",
        "colab_type": "code",
        "colab": {
          "base_uri": "https://localhost:8080/",
          "height": 34
        },
        "outputId": "c7eb4922-a35c-4c92-fd3b-ec83bd1649f2"
      },
      "source": [
        "import numpy as np\n",
        "import pandas as pd\n",
        "import matplotlib.pyplot as plt\n",
        "import cv2\n",
        "import keras\n",
        "from keras.layers import Dense,Conv2D,LSTM,Bidirectional,TimeDistributed,Input,RepeatVector\n",
        "from keras.models import Model,load_model\n",
        "from keras.optimizers import RMSprop"
      ],
      "execution_count": null,
      "outputs": [
        {
          "output_type": "stream",
          "text": [
            "Using TensorFlow backend.\n"
          ],
          "name": "stderr"
        }
      ]
    },
    {
      "cell_type": "markdown",
      "metadata": {
        "id": "_oXbAZLPZSnZ",
        "colab_type": "text"
      },
      "source": [
        "#Preprocessing"
      ]
    },
    {
      "cell_type": "code",
      "metadata": {
        "id": "grkwrgaIbOQ4",
        "colab_type": "code",
        "colab": {}
      },
      "source": [
        "import os\n",
        "from math import ceil\n",
        "import string\n",
        "from keras.preprocessing.text import Tokenizer\n",
        "from keras.preprocessing.sequence import pad_sequences\n",
        "from tqdm import tqdm"
      ],
      "execution_count": null,
      "outputs": []
    },
    {
      "cell_type": "code",
      "metadata": {
        "id": "xMK6twxlbR9V",
        "colab_type": "code",
        "colab": {}
      },
      "source": [
        "annonationsPath = '/content/drive/My Drive/train.xlsx'\n",
        "parentFolder = '/content/drive/My Drive/Train/'\n",
        "numVideos = 30\n",
        "finalOutput = {}\n",
        "max_length_video_id=None\n",
        "max_length_video=None\n",
        "X_train = []\n",
        "y_train = []"
      ],
      "execution_count": null,
      "outputs": []
    },
    {
      "cell_type": "code",
      "metadata": {
        "id": "3_O3mBjYnQB8",
        "colab_type": "code",
        "colab": {}
      },
      "source": [
        "# import re\n",
        "s= [\"<S> hey, This is Me!!! <E>\", \n",
        "    \"<S> i am running and i like to run and <E>\",\n",
        "    \"<S> i also like playing football. <E>\"]\n",
        "tokenizer = Tokenizer()\n",
        "tokenizer.fit_on_texts(s)\n",
        "a = tokenizer.texts_to_sequences(s)\n",
        "for i in a:\n",
        "    print(f\"{i} --> {tokenizer.sequences_to_texts([i])}\")"
      ],
      "execution_count": null,
      "outputs": []
    },
    {
      "cell_type": "code",
      "metadata": {
        "id": "J_pfICkebVtt",
        "colab_type": "code",
        "colab": {}
      },
      "source": [
        "def textPreprocessing(data):\n",
        "    #Removing Punctuations\n",
        "    global max_length_video_id\n",
        "    data = [s.translate(str.maketrans('', '', string.punctuation)) for s in data]\n",
        "\n",
        "    #Converting text to lower case and calculating max length\n",
        "    size_1 = []\n",
        "    for i in range(len(data)):\n",
        "        data[i] = data[i].lower()\n",
        "        size_1.append(len(data[i].split()))\n",
        "\n",
        "    #Max Sentence Length\n",
        "    max_sentence_length = max(size_1)\n",
        "\n",
        "    #Converting Text into Tokens\n",
        "    tokenizer = Tokenizer()\n",
        "    tokenizer.fit_on_texts(data)\n",
        "    seq = tokenizer.texts_to_sequences(data)\n",
        "    seq = pad_sequences(seq, maxlen=max_sentence_length, padding='post')\n",
        "    vocab_size = len(tokenizer.word_index) + 1\n",
        "    # print(max_sentence_length,vocab_size)\n",
        "\n",
        "    return seq,max_sentence_length,vocab_size\n",
        "\n",
        "def preprocess_sentences():\n",
        "    global max_length_video\n",
        "    annonationData = pd.read_excel(annonationsPath)\n",
        "    seq,max_length,vocab_size = textPreprocessing(annonationData.iloc[:numVideos,3].values)\n",
        "    id = annonationData.iloc[:numVideos,0].values\n",
        "    for i in range(len(id)):\n",
        "        finalOutput[id[i]] = seq[i]\n",
        "    return max_length,vocab_size\n",
        "\n",
        "def framing(folderImages,window_size=8,stride=4):\n",
        "    num_images = len(folderImages)\n",
        "    meta_frames = int(np.floor((num_images-window_size)/stride)) + 1\n",
        "    output = []\n",
        "    for i in range(meta_frames):\n",
        "        imgs=[]\n",
        "        for j in range(i*stride,window_size+i*stride):\n",
        "            imgs.append(folderImages[j])\n",
        "        output.append(imgs)\n",
        "    return output\n",
        "\n",
        "def getMaxFrames():\n",
        "    count=0\n",
        "    for folder in os.listdir(parentFolder)[:numVideos]:\n",
        "        for subfolder in os.listdir(parentFolder+folder):\n",
        "            childPath = parentFolder+folder+'/'+subfolder\n",
        "            numFrames = len(os.listdir(childPath))\n",
        "            if(numFrames>count):\n",
        "                count=numFrames\n",
        "    return count\n",
        "\n",
        "def preprocess_videos():\n",
        "    max_num_frames = getMaxFrames()\n",
        "    # print('Max Frames',max_num_frames)\n",
        "    for folder in tqdm(os.listdir(parentFolder)[:numVideos]):\n",
        "        # print(folder)\n",
        "        for subfolder in os.listdir(parentFolder+folder):\n",
        "            childPath = parentFolder+folder+'/'+subfolder\n",
        "            video = []\n",
        "            # print(len(os.listdir(childPath)))\n",
        "            numBlankFrames = max_num_frames - len(os.listdir(childPath))\n",
        "            for image in os.listdir(childPath):\n",
        "                img = cv2.imread(childPath+'/'+image)\n",
        "                img = cv2.resize(img,(224,224), interpolation = cv2.INTER_AREA)\n",
        "                img = img/255.0\n",
        "                img = np.array(img,dtype='float16')\n",
        "                video.append(img)\n",
        "            blankFrame = np.zeros((224,224,3),np.uint8)\n",
        "            for i in range(numBlankFrames):\n",
        "                video.append(blankFrame)\n",
        "            # print(len(video))\n",
        "            X_train.append(framing(video))\n",
        "            y_train.append(finalOutput[folder])\n"
      ],
      "execution_count": null,
      "outputs": []
    },
    {
      "cell_type": "code",
      "metadata": {
        "id": "I4VKG5g0bhoP",
        "colab_type": "code",
        "colab": {}
      },
      "source": [
        "max_length,vocab_size = preprocess_sentences()\n",
        "preprocess_videos()\n",
        "X_train = np.array(X_train)\n",
        "print(X_train.shape)\n",
        "y_train = np.array(y_train)\n",
        "print(y_train.shape)\n",
        "\n",
        "np.save('/content/drive/My Drive/X_train.npy',X_train)\n",
        "np.save('/content/drive/My Drive/y_train.npy',y_train)\n",
        "print(max_length,vocab_size)"
      ],
      "execution_count": null,
      "outputs": []
    },
    {
      "cell_type": "code",
      "metadata": {
        "id": "RnVBsJYSr20_",
        "colab_type": "code",
        "colab": {}
      },
      "source": [
        "import json\n",
        "with open('/content/drive/My Drive/meta.json','w') as file:\n",
        "  json.dump({'max_length':max_length,'vocab_size':vocab_size},file)"
      ],
      "execution_count": null,
      "outputs": []
    },
    {
      "cell_type": "code",
      "metadata": {
        "id": "DxjNxN3AbuYh",
        "colab_type": "code",
        "colab": {
          "base_uri": "https://localhost:8080/",
          "height": 51
        },
        "outputId": "fb4d16d9-e6c3-4238-a4a6-16e63d0e2a30"
      },
      "source": [
        "#Importing the Data \n",
        "X_train = np.load('/content/drive/My Drive/X_train.npy')\n",
        "y_train = np.load('/content/drive/My Drive/y_train.npy')\n",
        "print(X_train.shape)\n",
        "print(y_train.shape)"
      ],
      "execution_count": null,
      "outputs": [
        {
          "output_type": "stream",
          "text": [
            "(30, 53, 8, 224, 224, 3)\n",
            "(30, 23)\n"
          ],
          "name": "stdout"
        }
      ]
    },
    {
      "cell_type": "code",
      "metadata": {
        "id": "B_tLth8T7GtA",
        "colab_type": "code",
        "colab": {}
      },
      "source": [
        "from sklearn.utils import shuffle\n",
        "X_train,y_train = shuffle(X_train,y_train)"
      ],
      "execution_count": null,
      "outputs": []
    },
    {
      "cell_type": "code",
      "metadata": {
        "id": "bV60oBMv2jAB",
        "colab_type": "code",
        "colab": {}
      },
      "source": [
        "import json\n",
        "with open('/content/drive/My Drive/meta.json') as f:\n",
        "  output= json.load(f)\n",
        "max_length = output['max_length']\n",
        "vocab_size = output['vocab_size']"
      ],
      "execution_count": null,
      "outputs": []
    },
    {
      "cell_type": "code",
      "metadata": {
        "id": "eaUbK7Mdw_TU",
        "colab_type": "code",
        "colab": {}
      },
      "source": [
        "input_shape = (30,53,8,224,224,3)\n",
        "out_timesteps = 23\n",
        "out_vocab = 157"
      ],
      "execution_count": null,
      "outputs": []
    },
    {
      "cell_type": "code",
      "metadata": {
        "id": "aFilYd9nDe_j",
        "colab_type": "code",
        "colab": {}
      },
      "source": [
        "# Defining the resnet3d model\n",
        "from resnet3d import Resnet3DBuilder\n",
        "resnet3dmodel = Resnet3DBuilder.build_resnet_18((input_shape[2], input_shape[3], input_shape[4], input_shape[5]), 0)\n",
        "# layer_names = [layer.name for layer in model.layers]\n",
        "last_layer = resnet3dmodel.layers[-2]\n",
        "base_model = Model(inputs = resnet3dmodel.input, outputs=last_layer.output)"
      ],
      "execution_count": null,
      "outputs": []
    },
    {
      "cell_type": "code",
      "metadata": {
        "id": "rzZRf6iq4zQE",
        "colab_type": "code",
        "colab": {
          "base_uri": "https://localhost:8080/",
          "height": 1000
        },
        "outputId": "a5e3be6c-66d1-4f2d-bc9b-e3dbd42c9a61"
      },
      "source": [
        "base_model_1 = load_model('/content/drive/My Drive/model_normalized.h5')\n",
        "last_layer = base_model_1.layers[-2]\n",
        "base_model = Model(inputs=base_model_1.input,outputs=last_layer.output)\n",
        "base_model.summary()"
      ],
      "execution_count": null,
      "outputs": [
        {
          "output_type": "stream",
          "text": [
            "Model: \"model\"\n",
            "__________________________________________________________________________________________________\n",
            "Layer (type)                    Output Shape         Param #     Connected to                     \n",
            "==================================================================================================\n",
            "input_1 (InputLayer)            [(None, 30, 224, 224 0                                            \n",
            "__________________________________________________________________________________________________\n",
            "conv3d_1 (Conv3D)               (None, 15, 112, 112, 65920       input_1[0][0]                    \n",
            "__________________________________________________________________________________________________\n",
            "batch_normalization_1 (BatchNor (None, 15, 112, 112, 256         conv3d_1[0][0]                   \n",
            "__________________________________________________________________________________________________\n",
            "activation_1 (Activation)       (None, 15, 112, 112, 0           batch_normalization_1[0][0]      \n",
            "__________________________________________________________________________________________________\n",
            "max_pooling3d_1 (MaxPooling3D)  (None, 8, 56, 56, 64 0           activation_1[0][0]               \n",
            "__________________________________________________________________________________________________\n",
            "conv3d_2 (Conv3D)               (None, 8, 56, 56, 64 110656      max_pooling3d_1[0][0]            \n",
            "__________________________________________________________________________________________________\n",
            "batch_normalization_2 (BatchNor (None, 8, 56, 56, 64 256         conv3d_2[0][0]                   \n",
            "__________________________________________________________________________________________________\n",
            "activation_2 (Activation)       (None, 8, 56, 56, 64 0           batch_normalization_2[0][0]      \n",
            "__________________________________________________________________________________________________\n",
            "conv3d_3 (Conv3D)               (None, 8, 56, 56, 64 110656      activation_2[0][0]               \n",
            "__________________________________________________________________________________________________\n",
            "add_1 (Add)                     (None, 8, 56, 56, 64 0           max_pooling3d_1[0][0]            \n",
            "                                                                 conv3d_3[0][0]                   \n",
            "__________________________________________________________________________________________________\n",
            "batch_normalization_3 (BatchNor (None, 8, 56, 56, 64 256         add_1[0][0]                      \n",
            "__________________________________________________________________________________________________\n",
            "activation_3 (Activation)       (None, 8, 56, 56, 64 0           batch_normalization_3[0][0]      \n",
            "__________________________________________________________________________________________________\n",
            "conv3d_4 (Conv3D)               (None, 8, 56, 56, 64 110656      activation_3[0][0]               \n",
            "__________________________________________________________________________________________________\n",
            "batch_normalization_4 (BatchNor (None, 8, 56, 56, 64 256         conv3d_4[0][0]                   \n",
            "__________________________________________________________________________________________________\n",
            "activation_4 (Activation)       (None, 8, 56, 56, 64 0           batch_normalization_4[0][0]      \n",
            "__________________________________________________________________________________________________\n",
            "conv3d_5 (Conv3D)               (None, 8, 56, 56, 64 110656      activation_4[0][0]               \n",
            "__________________________________________________________________________________________________\n",
            "add_2 (Add)                     (None, 8, 56, 56, 64 0           add_1[0][0]                      \n",
            "                                                                 conv3d_5[0][0]                   \n",
            "__________________________________________________________________________________________________\n",
            "batch_normalization_5 (BatchNor (None, 8, 56, 56, 64 256         add_2[0][0]                      \n",
            "__________________________________________________________________________________________________\n",
            "activation_5 (Activation)       (None, 8, 56, 56, 64 0           batch_normalization_5[0][0]      \n",
            "__________________________________________________________________________________________________\n",
            "conv3d_6 (Conv3D)               (None, 4, 28, 28, 12 221312      activation_5[0][0]               \n",
            "__________________________________________________________________________________________________\n",
            "batch_normalization_6 (BatchNor (None, 4, 28, 28, 12 512         conv3d_6[0][0]                   \n",
            "__________________________________________________________________________________________________\n",
            "activation_6 (Activation)       (None, 4, 28, 28, 12 0           batch_normalization_6[0][0]      \n",
            "__________________________________________________________________________________________________\n",
            "conv3d_8 (Conv3D)               (None, 4, 28, 28, 12 8320        add_2[0][0]                      \n",
            "__________________________________________________________________________________________________\n",
            "conv3d_7 (Conv3D)               (None, 4, 28, 28, 12 442496      activation_6[0][0]               \n",
            "__________________________________________________________________________________________________\n",
            "add_3 (Add)                     (None, 4, 28, 28, 12 0           conv3d_8[0][0]                   \n",
            "                                                                 conv3d_7[0][0]                   \n",
            "__________________________________________________________________________________________________\n",
            "batch_normalization_7 (BatchNor (None, 4, 28, 28, 12 512         add_3[0][0]                      \n",
            "__________________________________________________________________________________________________\n",
            "activation_7 (Activation)       (None, 4, 28, 28, 12 0           batch_normalization_7[0][0]      \n",
            "__________________________________________________________________________________________________\n",
            "conv3d_9 (Conv3D)               (None, 4, 28, 28, 12 442496      activation_7[0][0]               \n",
            "__________________________________________________________________________________________________\n",
            "batch_normalization_8 (BatchNor (None, 4, 28, 28, 12 512         conv3d_9[0][0]                   \n",
            "__________________________________________________________________________________________________\n",
            "activation_8 (Activation)       (None, 4, 28, 28, 12 0           batch_normalization_8[0][0]      \n",
            "__________________________________________________________________________________________________\n",
            "conv3d_10 (Conv3D)              (None, 4, 28, 28, 12 442496      activation_8[0][0]               \n",
            "__________________________________________________________________________________________________\n",
            "add_4 (Add)                     (None, 4, 28, 28, 12 0           add_3[0][0]                      \n",
            "                                                                 conv3d_10[0][0]                  \n",
            "__________________________________________________________________________________________________\n",
            "batch_normalization_9 (BatchNor (None, 4, 28, 28, 12 512         add_4[0][0]                      \n",
            "__________________________________________________________________________________________________\n",
            "activation_9 (Activation)       (None, 4, 28, 28, 12 0           batch_normalization_9[0][0]      \n",
            "__________________________________________________________________________________________________\n",
            "conv3d_11 (Conv3D)              (None, 2, 14, 14, 25 884992      activation_9[0][0]               \n",
            "__________________________________________________________________________________________________\n",
            "batch_normalization_10 (BatchNo (None, 2, 14, 14, 25 1024        conv3d_11[0][0]                  \n",
            "__________________________________________________________________________________________________\n",
            "activation_10 (Activation)      (None, 2, 14, 14, 25 0           batch_normalization_10[0][0]     \n",
            "__________________________________________________________________________________________________\n",
            "conv3d_13 (Conv3D)              (None, 2, 14, 14, 25 33024       add_4[0][0]                      \n",
            "__________________________________________________________________________________________________\n",
            "conv3d_12 (Conv3D)              (None, 2, 14, 14, 25 1769728     activation_10[0][0]              \n",
            "__________________________________________________________________________________________________\n",
            "add_5 (Add)                     (None, 2, 14, 14, 25 0           conv3d_13[0][0]                  \n",
            "                                                                 conv3d_12[0][0]                  \n",
            "__________________________________________________________________________________________________\n",
            "batch_normalization_11 (BatchNo (None, 2, 14, 14, 25 1024        add_5[0][0]                      \n",
            "__________________________________________________________________________________________________\n",
            "activation_11 (Activation)      (None, 2, 14, 14, 25 0           batch_normalization_11[0][0]     \n",
            "__________________________________________________________________________________________________\n",
            "conv3d_14 (Conv3D)              (None, 2, 14, 14, 25 1769728     activation_11[0][0]              \n",
            "__________________________________________________________________________________________________\n",
            "batch_normalization_12 (BatchNo (None, 2, 14, 14, 25 1024        conv3d_14[0][0]                  \n",
            "__________________________________________________________________________________________________\n",
            "activation_12 (Activation)      (None, 2, 14, 14, 25 0           batch_normalization_12[0][0]     \n",
            "__________________________________________________________________________________________________\n",
            "conv3d_15 (Conv3D)              (None, 2, 14, 14, 25 1769728     activation_12[0][0]              \n",
            "__________________________________________________________________________________________________\n",
            "add_6 (Add)                     (None, 2, 14, 14, 25 0           add_5[0][0]                      \n",
            "                                                                 conv3d_15[0][0]                  \n",
            "__________________________________________________________________________________________________\n",
            "batch_normalization_13 (BatchNo (None, 2, 14, 14, 25 1024        add_6[0][0]                      \n",
            "__________________________________________________________________________________________________\n",
            "activation_13 (Activation)      (None, 2, 14, 14, 25 0           batch_normalization_13[0][0]     \n",
            "__________________________________________________________________________________________________\n",
            "conv3d_16 (Conv3D)              (None, 1, 7, 7, 512) 3539456     activation_13[0][0]              \n",
            "__________________________________________________________________________________________________\n",
            "batch_normalization_14 (BatchNo (None, 1, 7, 7, 512) 2048        conv3d_16[0][0]                  \n",
            "__________________________________________________________________________________________________\n",
            "activation_14 (Activation)      (None, 1, 7, 7, 512) 0           batch_normalization_14[0][0]     \n",
            "__________________________________________________________________________________________________\n",
            "conv3d_18 (Conv3D)              (None, 1, 7, 7, 512) 131584      add_6[0][0]                      \n",
            "__________________________________________________________________________________________________\n",
            "conv3d_17 (Conv3D)              (None, 1, 7, 7, 512) 7078400     activation_14[0][0]              \n",
            "__________________________________________________________________________________________________\n",
            "add_7 (Add)                     (None, 1, 7, 7, 512) 0           conv3d_18[0][0]                  \n",
            "                                                                 conv3d_17[0][0]                  \n",
            "__________________________________________________________________________________________________\n",
            "batch_normalization_15 (BatchNo (None, 1, 7, 7, 512) 2048        add_7[0][0]                      \n",
            "__________________________________________________________________________________________________\n",
            "activation_15 (Activation)      (None, 1, 7, 7, 512) 0           batch_normalization_15[0][0]     \n",
            "__________________________________________________________________________________________________\n",
            "conv3d_19 (Conv3D)              (None, 1, 7, 7, 512) 7078400     activation_15[0][0]              \n",
            "__________________________________________________________________________________________________\n",
            "batch_normalization_16 (BatchNo (None, 1, 7, 7, 512) 2048        conv3d_19[0][0]                  \n",
            "__________________________________________________________________________________________________\n",
            "activation_16 (Activation)      (None, 1, 7, 7, 512) 0           batch_normalization_16[0][0]     \n",
            "__________________________________________________________________________________________________\n",
            "conv3d_20 (Conv3D)              (None, 1, 7, 7, 512) 7078400     activation_16[0][0]              \n",
            "__________________________________________________________________________________________________\n",
            "add_8 (Add)                     (None, 1, 7, 7, 512) 0           add_7[0][0]                      \n",
            "                                                                 conv3d_20[0][0]                  \n",
            "__________________________________________________________________________________________________\n",
            "batch_normalization_17 (BatchNo (None, 1, 7, 7, 512) 2048        add_8[0][0]                      \n",
            "__________________________________________________________________________________________________\n",
            "activation_17 (Activation)      (None, 1, 7, 7, 512) 0           batch_normalization_17[0][0]     \n",
            "__________________________________________________________________________________________________\n",
            "average_pooling3d_1 (AveragePoo (None, 1, 1, 1, 512) 0           activation_17[0][0]              \n",
            "__________________________________________________________________________________________________\n",
            "flatten_1 (Flatten)             (None, 512)          0           average_pooling3d_1[0][0]        \n",
            "==================================================================================================\n",
            "Total params: 33,214,720\n",
            "Trainable params: 33,206,912\n",
            "Non-trainable params: 7,808\n",
            "__________________________________________________________________________________________________\n"
          ],
          "name": "stdout"
        }
      ]
    },
    {
      "cell_type": "code",
      "metadata": {
        "id": "pvGLHyza5lpU",
        "colab_type": "code",
        "colab": {
          "base_uri": "https://localhost:8080/",
          "height": 1000
        },
        "outputId": "93af8c50-7361-46e4-fe63-fcec6a0b5f6c"
      },
      "source": [
        "for layer in base_model.layers:\n",
        "  layer.trainable = False\n",
        "\n",
        "base_model.summary()"
      ],
      "execution_count": null,
      "outputs": [
        {
          "output_type": "stream",
          "text": [
            "Model: \"model\"\n",
            "__________________________________________________________________________________________________\n",
            "Layer (type)                    Output Shape         Param #     Connected to                     \n",
            "==================================================================================================\n",
            "input_1 (InputLayer)            [(None, 30, 224, 224 0                                            \n",
            "__________________________________________________________________________________________________\n",
            "conv3d_1 (Conv3D)               (None, 15, 112, 112, 65920       input_1[0][0]                    \n",
            "__________________________________________________________________________________________________\n",
            "batch_normalization_1 (BatchNor (None, 15, 112, 112, 256         conv3d_1[0][0]                   \n",
            "__________________________________________________________________________________________________\n",
            "activation_1 (Activation)       (None, 15, 112, 112, 0           batch_normalization_1[0][0]      \n",
            "__________________________________________________________________________________________________\n",
            "max_pooling3d_1 (MaxPooling3D)  (None, 8, 56, 56, 64 0           activation_1[0][0]               \n",
            "__________________________________________________________________________________________________\n",
            "conv3d_2 (Conv3D)               (None, 8, 56, 56, 64 110656      max_pooling3d_1[0][0]            \n",
            "__________________________________________________________________________________________________\n",
            "batch_normalization_2 (BatchNor (None, 8, 56, 56, 64 256         conv3d_2[0][0]                   \n",
            "__________________________________________________________________________________________________\n",
            "activation_2 (Activation)       (None, 8, 56, 56, 64 0           batch_normalization_2[0][0]      \n",
            "__________________________________________________________________________________________________\n",
            "conv3d_3 (Conv3D)               (None, 8, 56, 56, 64 110656      activation_2[0][0]               \n",
            "__________________________________________________________________________________________________\n",
            "add_1 (Add)                     (None, 8, 56, 56, 64 0           max_pooling3d_1[0][0]            \n",
            "                                                                 conv3d_3[0][0]                   \n",
            "__________________________________________________________________________________________________\n",
            "batch_normalization_3 (BatchNor (None, 8, 56, 56, 64 256         add_1[0][0]                      \n",
            "__________________________________________________________________________________________________\n",
            "activation_3 (Activation)       (None, 8, 56, 56, 64 0           batch_normalization_3[0][0]      \n",
            "__________________________________________________________________________________________________\n",
            "conv3d_4 (Conv3D)               (None, 8, 56, 56, 64 110656      activation_3[0][0]               \n",
            "__________________________________________________________________________________________________\n",
            "batch_normalization_4 (BatchNor (None, 8, 56, 56, 64 256         conv3d_4[0][0]                   \n",
            "__________________________________________________________________________________________________\n",
            "activation_4 (Activation)       (None, 8, 56, 56, 64 0           batch_normalization_4[0][0]      \n",
            "__________________________________________________________________________________________________\n",
            "conv3d_5 (Conv3D)               (None, 8, 56, 56, 64 110656      activation_4[0][0]               \n",
            "__________________________________________________________________________________________________\n",
            "add_2 (Add)                     (None, 8, 56, 56, 64 0           add_1[0][0]                      \n",
            "                                                                 conv3d_5[0][0]                   \n",
            "__________________________________________________________________________________________________\n",
            "batch_normalization_5 (BatchNor (None, 8, 56, 56, 64 256         add_2[0][0]                      \n",
            "__________________________________________________________________________________________________\n",
            "activation_5 (Activation)       (None, 8, 56, 56, 64 0           batch_normalization_5[0][0]      \n",
            "__________________________________________________________________________________________________\n",
            "conv3d_6 (Conv3D)               (None, 4, 28, 28, 12 221312      activation_5[0][0]               \n",
            "__________________________________________________________________________________________________\n",
            "batch_normalization_6 (BatchNor (None, 4, 28, 28, 12 512         conv3d_6[0][0]                   \n",
            "__________________________________________________________________________________________________\n",
            "activation_6 (Activation)       (None, 4, 28, 28, 12 0           batch_normalization_6[0][0]      \n",
            "__________________________________________________________________________________________________\n",
            "conv3d_8 (Conv3D)               (None, 4, 28, 28, 12 8320        add_2[0][0]                      \n",
            "__________________________________________________________________________________________________\n",
            "conv3d_7 (Conv3D)               (None, 4, 28, 28, 12 442496      activation_6[0][0]               \n",
            "__________________________________________________________________________________________________\n",
            "add_3 (Add)                     (None, 4, 28, 28, 12 0           conv3d_8[0][0]                   \n",
            "                                                                 conv3d_7[0][0]                   \n",
            "__________________________________________________________________________________________________\n",
            "batch_normalization_7 (BatchNor (None, 4, 28, 28, 12 512         add_3[0][0]                      \n",
            "__________________________________________________________________________________________________\n",
            "activation_7 (Activation)       (None, 4, 28, 28, 12 0           batch_normalization_7[0][0]      \n",
            "__________________________________________________________________________________________________\n",
            "conv3d_9 (Conv3D)               (None, 4, 28, 28, 12 442496      activation_7[0][0]               \n",
            "__________________________________________________________________________________________________\n",
            "batch_normalization_8 (BatchNor (None, 4, 28, 28, 12 512         conv3d_9[0][0]                   \n",
            "__________________________________________________________________________________________________\n",
            "activation_8 (Activation)       (None, 4, 28, 28, 12 0           batch_normalization_8[0][0]      \n",
            "__________________________________________________________________________________________________\n",
            "conv3d_10 (Conv3D)              (None, 4, 28, 28, 12 442496      activation_8[0][0]               \n",
            "__________________________________________________________________________________________________\n",
            "add_4 (Add)                     (None, 4, 28, 28, 12 0           add_3[0][0]                      \n",
            "                                                                 conv3d_10[0][0]                  \n",
            "__________________________________________________________________________________________________\n",
            "batch_normalization_9 (BatchNor (None, 4, 28, 28, 12 512         add_4[0][0]                      \n",
            "__________________________________________________________________________________________________\n",
            "activation_9 (Activation)       (None, 4, 28, 28, 12 0           batch_normalization_9[0][0]      \n",
            "__________________________________________________________________________________________________\n",
            "conv3d_11 (Conv3D)              (None, 2, 14, 14, 25 884992      activation_9[0][0]               \n",
            "__________________________________________________________________________________________________\n",
            "batch_normalization_10 (BatchNo (None, 2, 14, 14, 25 1024        conv3d_11[0][0]                  \n",
            "__________________________________________________________________________________________________\n",
            "activation_10 (Activation)      (None, 2, 14, 14, 25 0           batch_normalization_10[0][0]     \n",
            "__________________________________________________________________________________________________\n",
            "conv3d_13 (Conv3D)              (None, 2, 14, 14, 25 33024       add_4[0][0]                      \n",
            "__________________________________________________________________________________________________\n",
            "conv3d_12 (Conv3D)              (None, 2, 14, 14, 25 1769728     activation_10[0][0]              \n",
            "__________________________________________________________________________________________________\n",
            "add_5 (Add)                     (None, 2, 14, 14, 25 0           conv3d_13[0][0]                  \n",
            "                                                                 conv3d_12[0][0]                  \n",
            "__________________________________________________________________________________________________\n",
            "batch_normalization_11 (BatchNo (None, 2, 14, 14, 25 1024        add_5[0][0]                      \n",
            "__________________________________________________________________________________________________\n",
            "activation_11 (Activation)      (None, 2, 14, 14, 25 0           batch_normalization_11[0][0]     \n",
            "__________________________________________________________________________________________________\n",
            "conv3d_14 (Conv3D)              (None, 2, 14, 14, 25 1769728     activation_11[0][0]              \n",
            "__________________________________________________________________________________________________\n",
            "batch_normalization_12 (BatchNo (None, 2, 14, 14, 25 1024        conv3d_14[0][0]                  \n",
            "__________________________________________________________________________________________________\n",
            "activation_12 (Activation)      (None, 2, 14, 14, 25 0           batch_normalization_12[0][0]     \n",
            "__________________________________________________________________________________________________\n",
            "conv3d_15 (Conv3D)              (None, 2, 14, 14, 25 1769728     activation_12[0][0]              \n",
            "__________________________________________________________________________________________________\n",
            "add_6 (Add)                     (None, 2, 14, 14, 25 0           add_5[0][0]                      \n",
            "                                                                 conv3d_15[0][0]                  \n",
            "__________________________________________________________________________________________________\n",
            "batch_normalization_13 (BatchNo (None, 2, 14, 14, 25 1024        add_6[0][0]                      \n",
            "__________________________________________________________________________________________________\n",
            "activation_13 (Activation)      (None, 2, 14, 14, 25 0           batch_normalization_13[0][0]     \n",
            "__________________________________________________________________________________________________\n",
            "conv3d_16 (Conv3D)              (None, 1, 7, 7, 512) 3539456     activation_13[0][0]              \n",
            "__________________________________________________________________________________________________\n",
            "batch_normalization_14 (BatchNo (None, 1, 7, 7, 512) 2048        conv3d_16[0][0]                  \n",
            "__________________________________________________________________________________________________\n",
            "activation_14 (Activation)      (None, 1, 7, 7, 512) 0           batch_normalization_14[0][0]     \n",
            "__________________________________________________________________________________________________\n",
            "conv3d_18 (Conv3D)              (None, 1, 7, 7, 512) 131584      add_6[0][0]                      \n",
            "__________________________________________________________________________________________________\n",
            "conv3d_17 (Conv3D)              (None, 1, 7, 7, 512) 7078400     activation_14[0][0]              \n",
            "__________________________________________________________________________________________________\n",
            "add_7 (Add)                     (None, 1, 7, 7, 512) 0           conv3d_18[0][0]                  \n",
            "                                                                 conv3d_17[0][0]                  \n",
            "__________________________________________________________________________________________________\n",
            "batch_normalization_15 (BatchNo (None, 1, 7, 7, 512) 2048        add_7[0][0]                      \n",
            "__________________________________________________________________________________________________\n",
            "activation_15 (Activation)      (None, 1, 7, 7, 512) 0           batch_normalization_15[0][0]     \n",
            "__________________________________________________________________________________________________\n",
            "conv3d_19 (Conv3D)              (None, 1, 7, 7, 512) 7078400     activation_15[0][0]              \n",
            "__________________________________________________________________________________________________\n",
            "batch_normalization_16 (BatchNo (None, 1, 7, 7, 512) 2048        conv3d_19[0][0]                  \n",
            "__________________________________________________________________________________________________\n",
            "activation_16 (Activation)      (None, 1, 7, 7, 512) 0           batch_normalization_16[0][0]     \n",
            "__________________________________________________________________________________________________\n",
            "conv3d_20 (Conv3D)              (None, 1, 7, 7, 512) 7078400     activation_16[0][0]              \n",
            "__________________________________________________________________________________________________\n",
            "add_8 (Add)                     (None, 1, 7, 7, 512) 0           add_7[0][0]                      \n",
            "                                                                 conv3d_20[0][0]                  \n",
            "__________________________________________________________________________________________________\n",
            "batch_normalization_17 (BatchNo (None, 1, 7, 7, 512) 2048        add_8[0][0]                      \n",
            "__________________________________________________________________________________________________\n",
            "activation_17 (Activation)      (None, 1, 7, 7, 512) 0           batch_normalization_17[0][0]     \n",
            "__________________________________________________________________________________________________\n",
            "average_pooling3d_1 (AveragePoo (None, 1, 1, 1, 512) 0           activation_17[0][0]              \n",
            "__________________________________________________________________________________________________\n",
            "flatten_1 (Flatten)             (None, 512)          0           average_pooling3d_1[0][0]        \n",
            "==================================================================================================\n",
            "Total params: 33,214,720\n",
            "Trainable params: 0\n",
            "Non-trainable params: 33,214,720\n",
            "__________________________________________________________________________________________________\n"
          ],
          "name": "stdout"
        }
      ]
    },
    {
      "cell_type": "code",
      "metadata": {
        "id": "ixHIWGGy7sg-",
        "colab_type": "code",
        "colab": {
          "base_uri": "https://localhost:8080/",
          "height": 34
        },
        "outputId": "405de17f-c7b5-4329-df8d-d1a45dec5cc5"
      },
      "source": [
        "max_length"
      ],
      "execution_count": null,
      "outputs": [
        {
          "output_type": "execute_result",
          "data": {
            "text/plain": [
              "23"
            ]
          },
          "metadata": {
            "tags": []
          },
          "execution_count": 23
        }
      ]
    },
    {
      "cell_type": "code",
      "metadata": {
        "id": "qYmHiuK4TypX",
        "colab_type": "code",
        "colab": {
          "base_uri": "https://localhost:8080/",
          "height": 119
        },
        "outputId": "074d4a9d-513a-4933-cab6-e2c92309f46a"
      },
      "source": [
        "# Defining the main model\n",
        "\n",
        "#Input layer\n",
        "input_tensor = Input(shape=(input_shape[1],input_shape[2],input_shape[3],input_shape[4],input_shape[5]))\n",
        "print(input_tensor)\n",
        "#Feature Extractor\n",
        "resnet = TimeDistributed(base_model)(input_tensor)\n",
        "print(resnet)\n",
        "#Encoder\n",
        "bidirectional_lstm_1 = Bidirectional(LSTM(1024,return_sequences=True))(resnet)\n",
        "print(bidirectional_lstm_1)\n",
        "bidirectional_lstm_2 = Bidirectional(LSTM(1024))(bidirectional_lstm_1)\n",
        "print(bidirectional_lstm_2)\n",
        "\n",
        "#Decoder\n",
        "repeatVector = RepeatVector(out_timesteps)(bidirectional_lstm_2)\n",
        "lstm_1 = LSTM(1024, return_sequences=True)(repeatVector)\n",
        "print(lstm_1)\n",
        "#Output Dense layer\n",
        "dense = Dense(256,activation='relu')(lstm_1)\n",
        "output_tensor = Dense(out_vocab, activation='softmax')(dense)\n",
        "print(output_tensor)\n",
        "\n",
        "model = Model(inputs=input_tensor,outputs=output_tensor)"
      ],
      "execution_count": null,
      "outputs": [
        {
          "output_type": "stream",
          "text": [
            "Tensor(\"input_2:0\", shape=(None, 53, 8, 224, 224, 3), dtype=float32)\n",
            "Tensor(\"time_distributed_1/Reshape_1:0\", shape=(None, 53, 512), dtype=float32)\n",
            "Tensor(\"bidirectional_1/concat:0\", shape=(None, 53, 2048), dtype=float32)\n",
            "Tensor(\"bidirectional_2/concat:0\", shape=(None, 2048), dtype=float32)\n",
            "Tensor(\"lstm_3/transpose_1:0\", shape=(None, 23, 1024), dtype=float32)\n",
            "Tensor(\"dense_3/truediv:0\", shape=(None, 23, 157), dtype=float32)\n"
          ],
          "name": "stdout"
        }
      ]
    },
    {
      "cell_type": "code",
      "metadata": {
        "id": "MOqZa5D4wDsE",
        "colab_type": "code",
        "colab": {
          "base_uri": "https://localhost:8080/",
          "height": 425
        },
        "outputId": "087a3c63-571e-4c39-bbd4-9e1af853f0f4"
      },
      "source": [
        "#Model compilation\n",
        "model.compile(optimizer='adam', loss='sparse_categorical_crossentropy',metrics=['accuracy'])\n",
        "model.summary()"
      ],
      "execution_count": null,
      "outputs": [
        {
          "output_type": "stream",
          "text": [
            "Model: \"model_3\"\n",
            "_________________________________________________________________\n",
            "Layer (type)                 Output Shape              Param #   \n",
            "=================================================================\n",
            "input_2 (InputLayer)         (None, 53, 8, 224, 224, 3 0         \n",
            "_________________________________________________________________\n",
            "time_distributed_1 (TimeDist (None, 53, 512)           33214720  \n",
            "_________________________________________________________________\n",
            "bidirectional_1 (Bidirection (None, 53, 2048)          12591104  \n",
            "_________________________________________________________________\n",
            "bidirectional_2 (Bidirection (None, 2048)              25174016  \n",
            "_________________________________________________________________\n",
            "repeat_vector_1 (RepeatVecto (None, 23, 2048)          0         \n",
            "_________________________________________________________________\n",
            "lstm_3 (LSTM)                (None, 23, 1024)          12587008  \n",
            "_________________________________________________________________\n",
            "dense_2 (Dense)              (None, 23, 256)           262400    \n",
            "_________________________________________________________________\n",
            "dense_3 (Dense)              (None, 23, 157)           40349     \n",
            "=================================================================\n",
            "Total params: 83,869,597\n",
            "Trainable params: 83,861,789\n",
            "Non-trainable params: 7,808\n",
            "_________________________________________________________________\n"
          ],
          "name": "stdout"
        }
      ]
    },
    {
      "cell_type": "code",
      "metadata": {
        "id": "vXcEuL77TR8C",
        "colab_type": "code",
        "colab": {}
      },
      "source": [
        "# filename = 'model.h1.6_april_20'\n",
        "# checkpoint = ModelCheckpoint(filename, monitor='val_loss', verbose=1, save_best_only=True, mode='min')\n",
        "\n",
        "# train model\n",
        "history = model.fit(X_train, y_train.reshape(y_train.shape[0], y_train.shape[1], 1),\n",
        "                    epochs=20, batch_size=2, validation_split = 0.2, \n",
        "                    verbose=1,shuffle=True)"
      ],
      "execution_count": null,
      "outputs": []
    },
    {
      "cell_type": "code",
      "metadata": {
        "id": "u5MtMJtDf5iO",
        "colab_type": "code",
        "colab": {}
      },
      "source": [
        ""
      ],
      "execution_count": null,
      "outputs": []
    }
  ]
}